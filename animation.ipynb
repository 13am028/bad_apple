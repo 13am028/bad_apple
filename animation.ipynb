{
 "cells": [
  {
   "cell_type": "code",
   "execution_count": 2,
   "metadata": {},
   "outputs": [],
   "source": [
    "from matplotlib import pyplot as plt\n",
    "from matplotlib.animation import FuncAnimation\n",
    "import numpy as np\n",
    "import cv2"
   ]
  },
  {
   "cell_type": "code",
   "execution_count": 4,
   "metadata": {},
   "outputs": [],
   "source": [
    "vidcap = cv2.VideoCapture('bad_apple.mp4')\n",
    "success,image = vidcap.read()\n",
    "count = 0\n",
    "while success:\n",
    "  cv2.imwrite(\"./images/frame%d.jpg\" % count, image)     \n",
    "  success,image = vidcap.read()\n",
    "  count += 1"
   ]
  },
  {
   "cell_type": "code",
   "execution_count": 5,
   "metadata": {},
   "outputs": [],
   "source": [
    "frames = []\n",
    "for i in range(6570):\n",
    "    image = plt.imread(\"images/frame\" + str(i) + \".jpg\")\n",
    "    frames.append(image)"
   ]
  },
  {
   "cell_type": "code",
   "execution_count": 6,
   "metadata": {},
   "outputs": [
    {
     "data": {
      "text/plain": [
       "<matplotlib.image.AxesImage at 0x1d8f5e1fa60>"
      ]
     },
     "execution_count": 6,
     "metadata": {},
     "output_type": "execute_result"
    },
    {
     "data": {
      "image/png": "[encoded data removed]",
      "text/plain": [
       "<Figure size 432x288 with 1 Axes>"
      ]
     },
     "metadata": {
      "needs_background": "light"
     },
     "output_type": "display_data"
    }
   ],
   "source": [
    "img = frames[300]\n",
    "plt.imshow(img)"
   ]
  },
  {
   "cell_type": "code",
   "execution_count": 7,
   "metadata": {},
   "outputs": [
    {
     "data": {
      "text/plain": [
       "1095"
      ]
     },
     "execution_count": 7,
     "metadata": {},
     "output_type": "execute_result"
    }
   ],
   "source": [
    "# should take about 12 mins to run\n",
    "def color_diff(p1, p2):\n",
    "    return np.sum((p1-p2)**2)\n",
    "\n",
    "def edginess(img, x, y):\n",
    "    center = img[y, x]\n",
    "    l = img[y, x-1]\n",
    "    r = img[y, x-1]\n",
    "    t = img[y+1, x]\n",
    "    b = img[y-1, x]\n",
    "    # original video used here is in black&white so this trick works\n",
    "    if l[0] == r[0] and r[0] == t[0] and t[0] == b[0]:\n",
    "        return 0\n",
    "    else:\n",
    "        left = color_diff(center, l)\n",
    "        right =color_diff(center, r)\n",
    "        top =color_diff(center, t)\n",
    "        bottom =color_diff(center,b)\n",
    "        return max(left, right, top, bottom)\n",
    "        \n",
    "\n",
    "def edge(img):\n",
    "    ny, nx, _ = img.shape\n",
    "    ret = np.zeros((ny, nx))\n",
    "    for y in range(ny-1):\n",
    "        for x in range(1, nx-1):\n",
    "            ret[y, x] = edginess(img, x, y)\n",
    "    return ret\n",
    "\n",
    "e_ani = []\n",
    "for i in range(0, len(frames[:])-1, 6):\n",
    "    img = frames[i]\n",
    "    e_ani.append(edge(img))\n",
    "\n",
    "len(e_ani)"
   ]
  },
  {
   "cell_type": "code",
   "execution_count": null,
   "metadata": {},
   "outputs": [],
   "source": [
    "plt.rcParams[\"animation.html\"] = \"jshtml\"\n",
    "plt.rcParams['figure.dpi'] = 150  \n",
    "plt.rcParams['animation.embed_limit'] = 2**128\n",
    "plt.ioff()\n",
    "fig, ax = plt.subplots()\n",
    "\n",
    "def animate(t):\n",
    "    plt.cla()\n",
    "    plt.imshow(e_ani[t])\n",
    "    \n",
    "FuncAnimation(fig, animate, frames=1095)"
   ]
  }
 ],
 "metadata": {
  "interpreter": {
   "hash": "8f280d9e0a30b1e71adc2ba241b8bbfd51905c8407706a60a90d02384546fe3b"
  },
  "kernelspec": {
   "display_name": "Python 3.8.5 64-bit",
   "language": "python",
   "name": "python3"
  },
  "language_info": {
   "codemirror_mode": {
    "name": "ipython",
    "version": 3
   },
   "file_extension": ".py",
   "mimetype": "text/x-python",
   "name": "python",
   "nbconvert_exporter": "python",
   "pygments_lexer": "ipython3",
   "version": "3.8.5"
  },
  "orig_nbformat": 4
 },
 "nbformat": 4,
 "nbformat_minor": 2
}
